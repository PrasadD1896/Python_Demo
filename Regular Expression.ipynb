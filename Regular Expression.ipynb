{
 "cells": [
  {
   "cell_type": "markdown",
   "id": "40173248-2c4a-47af-8c5a-97c58c49ce6b",
   "metadata": {},
   "source": [
    "### Regular Expression:"
   ]
  },
  {
   "cell_type": "markdown",
   "id": "1e1bec6a-dec0-4db9-b17b-104144583b55",
   "metadata": {},
   "source": [
    "A regular expression is a sequence of characters that form a search pattern. It can be used to check if a string contains a specific pattern, extract portions of a string, or replace text within a string."
   ]
  },
  {
   "cell_type": "code",
   "execution_count": 1,
   "id": "456f37df-3ea3-438a-899b-811245274f96",
   "metadata": {},
   "outputs": [],
   "source": [
    "#Import re module\n",
    "import re"
   ]
  },
  {
   "cell_type": "markdown",
   "id": "71ed2fb9-1e5d-47b8-890a-65abd88e35a1",
   "metadata": {},
   "source": [
    "##### Literal Characters: Match exact characters in a string.\n",
    "\n",
    "Example: 'a' matches the character a.\n",
    "\n",
    "##### Metacharacters: Special characters that give regular expressions their power:\n",
    "\n",
    ".: Matches any character except a newline.\n",
    "\n",
    "^: Anchors the pattern at the start of the string.\n",
    "\n",
    "$: Anchors the pattern at the end of the string.\n",
    "\n",
    "*: Matches 0 or more repetitions of the preceding pattern.\n",
    "\n",
    "+: Matches 1 or more repetitions of the preceding pattern.\n",
    "\n",
    "\n",
    "?: Matches 0 or 1 repetition of the preceding pattern.\n",
    "\n",
    "[]: Matches any single character in the square brackets (range of characters).\n",
    "\n",
    "|: Acts as an OR between two patterns.\n",
    "\n",
    "(): Groups parts of the regular expression together."
   ]
  },
  {
   "cell_type": "markdown",
   "id": "00e861c0-cce1-4643-8ffe-ebf6ff5f8237",
   "metadata": {},
   "source": [
    "##### Special Sequences in Regular Expressions:\n",
    "\n",
    "\\d: Matches any digit (0-9).\n",
    "\n",
    "\\D: Matches any character that is not a digit.\n",
    "\n",
    "\\w: Matches any alphanumeric character (letters, digits, and underscores).\n",
    "\n",
    "\\W: Matches any character that is not alphanumeric.\n",
    "\n",
    "\\s: Matches any whitespace character (spaces, tabs, newlines).\n",
    "\n",
    "\\S: Matches any non-whitespace character.\n",
    "\n",
    "\\b: Matches a word boundary (between a word and a non-word character).\n",
    "\n",
    "\\B: Matches a non-word boundary.\n"
   ]
  },
  {
   "cell_type": "markdown",
   "id": "82f69bce-7805-4d4b-a347-d32c7d080d03",
   "metadata": {},
   "source": [
    "##### Quantifiers:\n",
    "\n",
    "Quantifiers allow you to specify the number of occurrences of a pattern.\n",
    "\n",
    "*: Matches 0 or more occurrences of the preceding character.\n",
    "\n",
    "+: Matches 1 or more occurrences.\n",
    "\n",
    "?: Matches 0 or 1 occurrence.\n",
    "\n",
    "{n}: Matches exactly n occurrences.\n",
    "\n",
    "{n,}: Matches n or more occurrences.\n",
    "\n",
    "{n,m}: Matches between n and m occurrences."
   ]
  },
  {
   "cell_type": "markdown",
   "id": "fb79a0bd-7cfa-48c8-9f84-22c04ebb38ef",
   "metadata": {},
   "source": [
    "##### Anchors:\n",
    "\n",
    "Anchors define the position of the match.\n",
    "\n",
    "^: Matches the start of the string.\n",
    "\n",
    "$: Matches the end of the string."
   ]
  },
  {
   "cell_type": "markdown",
   "id": "7c71a367-46c1-46b6-a19a-9894898b98ef",
   "metadata": {},
   "source": [
    "#### Common Functions:"
   ]
  },
  {
   "cell_type": "code",
   "execution_count": 3,
   "id": "e1005f19-975f-48b5-8920-db023625d72f",
   "metadata": {},
   "outputs": [
    {
     "name": "stdout",
     "output_type": "stream",
     "text": [
      "Match found: Hello\n"
     ]
    }
   ],
   "source": [
    "#re.match()\n",
    "import re\n",
    "\n",
    "pattern = r\"Hello\"\n",
    "result = re.match(pattern, \"Hello World!\")\n",
    "if result:\n",
    "    print(\"Match found:\", result.group())\n",
    "else:\n",
    "    print(\"No match.\")"
   ]
  },
  {
   "cell_type": "code",
   "execution_count": 5,
   "id": "2711b484-241f-4f5a-b06c-8ee4bfd65e75",
   "metadata": {},
   "outputs": [
    {
     "name": "stdout",
     "output_type": "stream",
     "text": [
      "Search found: World\n"
     ]
    }
   ],
   "source": [
    "#re.search()\n",
    "import re\n",
    "\n",
    "pattern = r\"World\"\n",
    "result = re.search(pattern, \"Hello World!\")\n",
    "if result:\n",
    "    print(\"Search found:\", result.group())\n",
    "else:\n",
    "    print(\"No match.\")"
   ]
  },
  {
   "cell_type": "code",
   "execution_count": 7,
   "id": "02792505-281a-4330-94b8-6600f18c8ead",
   "metadata": {},
   "outputs": [
    {
     "name": "stdout",
     "output_type": "stream",
     "text": [
      "['123', '456']\n"
     ]
    }
   ],
   "source": [
    "#re.findall()\n",
    "import re\n",
    "\n",
    "pattern = r\"\\d+\"  # Match one or more digits\n",
    "text = \"There are 123 apples and 456 oranges.\"\n",
    "matches = re.findall(pattern, text)\n",
    "print(matches)"
   ]
  },
  {
   "cell_type": "code",
   "execution_count": 9,
   "id": "12e67c83-c792-4cf9-a4ea-7953eb6f13ad",
   "metadata": {},
   "outputs": [
    {
     "name": "stdout",
     "output_type": "stream",
     "text": [
      "There are 123 bananas and 456 bananas.\n"
     ]
    }
   ],
   "source": [
    "#re.sub()\n",
    "import re\n",
    "\n",
    "pattern = r\"apples\"\n",
    "replacement = \"bananas\"\n",
    "text = \"There are 123 apples and 456 apples.\"\n",
    "modified_text = re.sub(pattern, replacement, text)\n",
    "print(modified_text)"
   ]
  },
  {
   "cell_type": "code",
   "execution_count": 11,
   "id": "46ab2ed4-6a8b-454a-b6e1-b9b55a73d4ff",
   "metadata": {},
   "outputs": [
    {
     "name": "stdout",
     "output_type": "stream",
     "text": [
      "['This', 'is', 'a', 'sample', 'text.']\n"
     ]
    }
   ],
   "source": [
    "#re.split()\n",
    "import re\n",
    "\n",
    "pattern = r\"\\s+\"  # Match one or more whitespace characters\n",
    "text = \"This is a sample text.\"\n",
    "words = re.split(pattern, text)\n",
    "print(words)"
   ]
  },
  {
   "cell_type": "markdown",
   "id": "a84e604a-a703-4d0d-b813-3f845fd7f070",
   "metadata": {},
   "source": [
    "### Email Validator:"
   ]
  },
  {
   "cell_type": "code",
   "execution_count": 13,
   "id": "7c138a11-8d93-4a5b-95e7-4354c90297fc",
   "metadata": {},
   "outputs": [
    {
     "name": "stdout",
     "output_type": "stream",
     "text": [
      "True\n",
      "False\n"
     ]
    }
   ],
   "source": [
    "import re\n",
    "\n",
    "def is_valid_email(email):\n",
    "    pattern = r\"^[a-zA-Z0-9_.+-]+@[a-zA-Z0-9-]+\\.[a-zA-Z0-9-.]+$\"\n",
    "    return bool(re.match(pattern, email))\n",
    "\n",
    "print(is_valid_email(\"test@example.com\"))\n",
    "print(is_valid_email(\"invalid-email\"))"
   ]
  },
  {
   "cell_type": "markdown",
   "id": "caf5f441-cc7d-422b-a45c-706e1410aaf2",
   "metadata": {},
   "source": [
    "#### What is the difference between *args and **kwargs?"
   ]
  },
  {
   "cell_type": "code",
   "execution_count": null,
   "id": "14259279-4993-41c2-bd4f-afd2ca7ac8da",
   "metadata": {},
   "outputs": [],
   "source": []
  }
 ],
 "metadata": {
  "kernelspec": {
   "display_name": "Python 3 (ipykernel)",
   "language": "python",
   "name": "python3"
  },
  "language_info": {
   "codemirror_mode": {
    "name": "ipython",
    "version": 3
   },
   "file_extension": ".py",
   "mimetype": "text/x-python",
   "name": "python",
   "nbconvert_exporter": "python",
   "pygments_lexer": "ipython3",
   "version": "3.12.4"
  }
 },
 "nbformat": 4,
 "nbformat_minor": 5
}
